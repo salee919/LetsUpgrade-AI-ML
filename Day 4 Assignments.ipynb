{
 "cells": [
  {
   "cell_type": "markdown",
   "metadata": {},
   "source": [
    "# Day 4 Assignments"
   ]
  },
  {
   "cell_type": "code",
   "execution_count": 56,
   "metadata": {},
   "outputs": [
    {
     "name": "stdout",
     "output_type": "stream",
     "text": [
      "1.Addition of Complex Numbers   (972+2524j)\n",
      "1.Substraction of Complex Numbers   (332-2524j)\n",
      "1.Multiplication of Complex Numbers   (1044+832.5j)\n",
      "1.division of Complex Numbers   (18.037542662116042+22.81911262798635j)\n",
      "====>The floor function is defined as the largest integer, less than or equal to the real number given.\n",
      "====>Since less than or equal to is not defined for complex numbers we cant have a floor function for them.\n",
      "====> Hence floor division  and Modulo cannot be Performed on COmplex Numbers\n"
     ]
    }
   ],
   "source": [
    "# Question 1 :\n",
    "# Research on whether addition, subtraction, multiplication, division, floor division and modulo\n",
    "#operations be performed on complex numbers. Based on your study, \n",
    "#implement a Python program to demonstrate these operations.\n",
    "\n",
    "#Addition of Complex Numbers \n",
    "a1 = 2524j\n",
    "a2 = 972\n",
    "result = c1+c2\n",
    "\n",
    "print(\"1.Addition of Complex Numbers  \",result)\n",
    "#SUbstraction of Complex Numbers \n",
    "b1 = 332\n",
    "b2 = 2524j\n",
    "result = b1-b2\n",
    "#c3 = 832-343j\n",
    "#c4 = 83j-343j\n",
    "#c5 = 883j-313j\n",
    "print(\"1.Substraction of Complex Numbers  \",result)\n",
    "#print(\"2.SUbstraction of Complex Numbers  \",c3)\n",
    "#print(\"3.SUbstraction of Complex Numbers  \",c4)\n",
    "#print(\"4.SUbstraction of Complex Numbers  \",c5)\n",
    "\n",
    "#Multiplication of of Complex Numbers \n",
    "a = 82+7j\n",
    "b = 13.5+9j\n",
    "c = a*b\n",
    "print(\"1.Multiplication of Complex Numbers  \",c)\n",
    "\n",
    "#division of Complex Numbers \n",
    "\n",
    "d1,d2=522+848j, 34+4j\n",
    "\n",
    "d=d1/d2\n",
    "print(\"1.division of Complex Numbers  \",d)\n",
    "\n",
    "#floor division of Complex Numbers is not possible \n",
    "\n",
    "print(\"====>The floor function is defined as the largest integer, less than or equal to the real number given.\") \n",
    "print(\"====>Since less than or equal to is not defined for complex numbers we cant have a floor function for them.\")\n",
    "print(\"====> Hence floor division  and Modulo cannot be Performed on COmplex Numbers\")\n",
    "#Modulo of Complex Numbers  is not possible \n"
   ]
  },
  {
   "cell_type": "markdown",
   "metadata": {},
   "source": [
    "<!-- # Question 2 :\n",
    "# Research on range() functions and its parameters. Create a markdown cell and write in your own\n",
    "# words (no copy-paste from google please) what you understand about it. Implement a small\n",
    "# program of your choice on the same. -->\n",
    "\n",
    "    Range() Function has to parameters start and stop.\n",
    "    Range Function generates the list of integer numbers between the given start integer to the stop integer in Range\n",
    "    function as parameters.\n",
    "    Things to remember while using Range Function\n",
    "        *All parameters must be integers.\n",
    "        *All parameters can be positive or negative\n",
    "        *in range() function the index starts from 0.\n",
    "        *Range() function can take only one parameter as well and iterates from 0 to that number\n"
   ]
  },
  {
   "cell_type": "code",
   "execution_count": 102,
   "metadata": {},
   "outputs": [
    {
     "name": "stdout",
     "output_type": "stream",
     "text": [
      "0\n",
      "1\n",
      "2\n",
      "3\n",
      "4\n",
      "\n",
      "\n",
      "3\n",
      "4\n",
      "5\n",
      "\n",
      "\n",
      "4\n",
      "6\n",
      "8\n",
      "\n",
      "\n",
      "0\n",
      "-2\n",
      "-4\n",
      "-6\n",
      "-8\n"
     ]
    }
   ],
   "source": [
    "#Range() Function Examples \n",
    "for i in range(5):\n",
    "    print(i)\n",
    "    \n",
    "print(\"\\n\")\n",
    "for i in range(3, 6):\n",
    "    print(i)\n",
    "    \n",
    "print(\"\\n\")\n",
    "\n",
    "for i in range(4, 10, 2):\n",
    "    print(i)\n",
    "    \n",
    "print(\"\\n\")  \n",
    "for i in range(0, -10, -2):\n",
    "    print(i)"
   ]
  },
  {
   "cell_type": "code",
   "execution_count": 70,
   "metadata": {},
   "outputs": [
    {
     "name": "stdout",
     "output_type": "stream",
     "text": [
      "subtraction of a & b is lesser than 25 so Divide  2.090909090909091\n",
      "subtraction of a & b is Greater than 25 so Multiply  2652\n",
      "subtraction of a & b is lesser than 25 so Divide  0.951885565669701\n",
      "subtraction of a & b is Greater than 25 so Multiply  34290\n"
     ]
    }
   ],
   "source": [
    "# Question 3:\n",
    "#  Consider two numbers. Perform their subtraction and if the result of subtraction is greater than\n",
    "# 25, print their multiplication result else print their division result.\n",
    "\n",
    "\n",
    "a = [23,78,732,635]\n",
    "b = [11,34,769,54]\n",
    "i=0\n",
    "for c in a:\n",
    "    result=c-b[i]\n",
    "    if(result>25):\n",
    "        print(\"subtraction of a & b is Greater than 25 so Multiply \",c*b[i])\n",
    "    else:\n",
    "        print(\"subtraction of a & b is lesser than 25 so Divide \",c/b[i])\n",
    "    i+= 1\n",
    "\n",
    "\n"
   ]
  },
  {
   "cell_type": "code",
   "execution_count": 92,
   "metadata": {},
   "outputs": [
    {
     "name": "stdout",
     "output_type": "stream",
     "text": [
      "Number in the List is not divisible by 2\n",
      "3.4641016151377544\n",
      "2.449489742783178\n",
      "Number in the List is not divisible by 2\n",
      "8.717797887081348\n",
      "Number in the List is not divisible by 2\n",
      "7.615773105863909\n",
      "3.4641016151377544\n",
      "Number in the List is not divisible by 2\n",
      "9.055385138137417\n"
     ]
    }
   ],
   "source": [
    "# Question 4:\n",
    "# Consider a list of 10 elements of integer values. If the number in the list is divisible by 2, print the\n",
    "# result as \"square of that number minus 2\".\n",
    "\n",
    "elements = [23,12,6,5,76,33,58,12,11,82]\n",
    "\n",
    "for e in elements:\n",
    "    if (e%2==0):\n",
    "        print((e**(1/2))-2)\n",
    "    else:\n",
    "        print(\"Number in the List is not divisible by 2\")\n",
    "\n",
    "\n"
   ]
  },
  {
   "cell_type": "code",
   "execution_count": 89,
   "metadata": {},
   "outputs": [
    {
     "name": "stdout",
     "output_type": "stream",
     "text": [
      "23\n",
      "15\n",
      "76\n",
      "33\n",
      "58\n",
      "82\n"
     ]
    }
   ],
   "source": [
    "# Question 5:\n",
    "# Consider a list of 10 elements. Print all the elements in the list which are greater than 7 when that\n",
    "# number is divided 2\n",
    "\n",
    "elements = [23,12,14,15,76,33,58,12,11,82]\n",
    "for e in elements:\n",
    "    if((e/2)>7):\n",
    "        print(e)\n"
   ]
  },
  {
   "cell_type": "code",
   "execution_count": null,
   "metadata": {},
   "outputs": [],
   "source": []
  }
 ],
 "metadata": {
  "kernelspec": {
   "display_name": "Python 3",
   "language": "python",
   "name": "python3"
  },
  "language_info": {
   "codemirror_mode": {
    "name": "ipython",
    "version": 3
   },
   "file_extension": ".py",
   "mimetype": "text/x-python",
   "name": "python",
   "nbconvert_exporter": "python",
   "pygments_lexer": "ipython3",
   "version": "3.7.6"
  }
 },
 "nbformat": 4,
 "nbformat_minor": 4
}
