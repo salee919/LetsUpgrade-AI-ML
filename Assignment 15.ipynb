{
 "cells": [
  {
   "cell_type": "markdown",
   "metadata": {},
   "source": [
    "# 1. Create a 3x3x3 array with random values "
   ]
  },
  {
   "cell_type": "code",
   "execution_count": 98,
   "metadata": {},
   "outputs": [
    {
     "data": {
      "text/plain": [
       "array([[[0.08967092, 0.92458036, 0.072161  ],\n",
       "        [0.55236336, 0.56539161, 0.38627148],\n",
       "        [0.26045856, 0.88444914, 0.57342337]],\n",
       "\n",
       "       [[0.75810608, 0.65125996, 0.49851392],\n",
       "        [0.66480477, 0.02158957, 0.10000591],\n",
       "        [0.60612083, 0.341515  , 0.21501819]],\n",
       "\n",
       "       [[0.49673548, 0.85507221, 0.44619082],\n",
       "        [0.28838952, 0.52026568, 0.84308217],\n",
       "        [0.02667328, 0.30174301, 0.66450752]]])"
      ]
     },
     "execution_count": 98,
     "metadata": {},
     "output_type": "execute_result"
    }
   ],
   "source": [
    "import numpy as np\n",
    "np.random.rand(3,3,3)"
   ]
  },
  {
   "cell_type": "markdown",
   "metadata": {},
   "source": [
    "# 2.Create a 5x5 matrix with values 1,2,3,4 just below the diagonal"
   ]
  },
  {
   "cell_type": "code",
   "execution_count": 15,
   "metadata": {},
   "outputs": [
    {
     "name": "stdout",
     "output_type": "stream",
     "text": [
      "[[0 0 0 0 0]\n",
      " [1 0 0 0 0]\n",
      " [0 2 0 0 0]\n",
      " [0 0 3 0 0]\n",
      " [0 0 0 4 0]]\n"
     ]
    }
   ],
   "source": [
    "seq = np.diag(1+np.arange(4),k=-1)\n",
    "print(seq)"
   ]
  },
  {
   "cell_type": "markdown",
   "metadata": {},
   "source": [
    "# 3.Create a 8x8 matrix and fill it with a checkerboard pattern"
   ]
  },
  {
   "cell_type": "code",
   "execution_count": 22,
   "metadata": {},
   "outputs": [
    {
     "name": "stdout",
     "output_type": "stream",
     "text": [
      "[[0 1 0 1 0 1 0 1]\n",
      " [1 0 1 0 1 0 1 0]\n",
      " [0 1 0 1 0 1 0 1]\n",
      " [1 0 1 0 1 0 1 0]\n",
      " [0 1 0 1 0 1 0 1]\n",
      " [1 0 1 0 1 0 1 0]\n",
      " [0 1 0 1 0 1 0 1]\n",
      " [1 0 1 0 1 0 1 0]]\n"
     ]
    }
   ],
   "source": [
    "chk = np.zeros((8,8),dtype=int)\n",
    "chk[1::2,::2] = 1\n",
    "chk[::2,1::2] = 1\n",
    "print(chk)"
   ]
  },
  {
   "cell_type": "markdown",
   "metadata": {},
   "source": [
    "# 4. Normalize a 5x5 random matrix"
   ]
  },
  {
   "cell_type": "code",
   "execution_count": 28,
   "metadata": {},
   "outputs": [
    {
     "name": "stdout",
     "output_type": "stream",
     "text": [
      "[[0.85873296 0.25978277 0.4956988  0.92473465 0.87267366]\n",
      " [0.4460599  0.30214213 0.4591329  0.14285151 0.04829091]\n",
      " [0.63519194 0.23589348 0.10779472 0.43435894 0.68147312]\n",
      " [0.32150218 0.19123312 0.73536388 0.54138232 0.44456263]\n",
      " [0.67400214 0.96637872 0.98344754 0.95330748 0.70807429]]\n",
      "-----------------\n",
      "0.9834475433247811\n",
      "0.04829091206818403\n",
      "[[0.86663776 0.22615661 0.47843096 0.93721598 0.88154511]\n",
      " [0.42535012 0.27145316 0.4393296  0.10111739 0.        ]\n",
      " [0.6275965  0.20061086 0.06362978 0.41283782 0.67708679]\n",
      " [0.29215562 0.15285377 0.73471432 0.52728216 0.42374903]\n",
      " [0.66909778 0.98174763 1.         0.96777004 0.70553248]]\n"
     ]
    }
   ],
   "source": [
    "Norm = np.random.random((5,5))\n",
    "print(Norm)\n",
    "print(\"-----------------\")\n",
    "Normmax, Normmin = Norm.max(), Norm.min()\n",
    "print(Normmax)\n",
    "print(Normmin)\n",
    "Norm = (Norm - Normmin)/(Normmax - Normmin)\n",
    "print(Norm)"
   ]
  },
  {
   "cell_type": "markdown",
   "metadata": {},
   "source": [
    "# 5.  How to find common values between two arrays?"
   ]
  },
  {
   "cell_type": "code",
   "execution_count": 30,
   "metadata": {},
   "outputs": [
    {
     "name": "stdout",
     "output_type": "stream",
     "text": [
      "[6 7 5 7 6 1 6 5 8 1]\n",
      "[9 2 8 4 6 8 8 4 8 6]\n",
      "[6 8]\n"
     ]
    }
   ],
   "source": [
    "comm1 = np.random.randint(0,10,10)\n",
    "print(comm1)\n",
    "comm2 = np.random.randint(0,10,10)\n",
    "print(comm2)\n",
    "print(np.intersect1d(comm1,comm2))"
   ]
  },
  {
   "cell_type": "markdown",
   "metadata": {},
   "source": [
    "# 6.How to get the dates of yesterday, today and tomorrow?"
   ]
  },
  {
   "cell_type": "code",
   "execution_count": 32,
   "metadata": {},
   "outputs": [
    {
     "name": "stdout",
     "output_type": "stream",
     "text": [
      "2020-07-24\n",
      "2020-07-25\n",
      "2020-07-26\n"
     ]
    }
   ],
   "source": [
    "yesterday = np.datetime64('today', 'D') - np.timedelta64(1, 'D')\n",
    "today = np.datetime64('today', 'D')\n",
    "tomorrow = np.datetime64('today', 'D') + np.timedelta64(1, 'D')\n",
    "print(yesterday)\n",
    "print(today)\n",
    "print(tomorrow)"
   ]
  },
  {
   "cell_type": "markdown",
   "metadata": {},
   "source": [
    "# 7. Consider two random array A and B, check if they are equal"
   ]
  },
  {
   "cell_type": "code",
   "execution_count": 97,
   "metadata": {},
   "outputs": [
    {
     "name": "stdout",
     "output_type": "stream",
     "text": [
      "[0 0 0 0 0]\n",
      "[0 1 0 1 0]\n",
      "False\n",
      "False\n",
      "True\n",
      "True\n"
     ]
    }
   ],
   "source": [
    "C = np.random.randint(0,1,5)\n",
    "D = np.random.randint(0,2,5)\n",
    "print(C)\n",
    "print(D)\n",
    "equal1 = np.allclose(C,D)\n",
    "equal2 = np.array_equal(C,D)\n",
    "print(equal1)\n",
    "print(equal2)\n",
    "A =np.array([[1,2,3],[4,5,6]])\n",
    "B =np.array([[1,2,3],[4,5,6]])\n",
    "equal = np.allclose(A,B)\n",
    "equal3 = np.array_equal(A,B)\n",
    "print(equal)\n",
    "print(equal3)"
   ]
  },
  {
   "cell_type": "markdown",
   "metadata": {},
   "source": [
    "# 8.Create random vector of size 10 and replace the maximum value by 0 "
   ]
  },
  {
   "cell_type": "code",
   "execution_count": 91,
   "metadata": {},
   "outputs": [
    {
     "name": "stdout",
     "output_type": "stream",
     "text": [
      "[0.29321657 0.03227828 0.26262314 0.33910312 0.31520332 0.53454809\n",
      " 0.93480417 0.45636139 0.6885356  0.06031931]\n",
      "[0.29321657 0.03227828 0.26262314 0.33910312 0.31520332 0.53454809\n",
      " 0.         0.45636139 0.6885356  0.06031931]\n"
     ]
    }
   ],
   "source": [
    "randmax = np.random.random(10)\n",
    "print(randmax)\n",
    "randmax[randmax.argmax()] = 0\n",
    "print(randmax)"
   ]
  },
  {
   "cell_type": "markdown",
   "metadata": {},
   "source": [
    "# 9. How to print all the values of an array?"
   ]
  },
  {
   "cell_type": "code",
   "execution_count": 79,
   "metadata": {},
   "outputs": [
    {
     "name": "stdout",
     "output_type": "stream",
     "text": [
      "[[0. 0. 0. 0. 0. 0. 0. 0. 0. 0. 0. 0. 0. 0. 0. 0.]\n",
      " [0. 0. 0. 0. 0. 0. 0. 0. 0. 0. 0. 0. 0. 0. 0. 0.]\n",
      " [0. 0. 0. 0. 0. 0. 0. 0. 0. 0. 0. 0. 0. 0. 0. 0.]\n",
      " [0. 0. 0. 0. 0. 0. 0. 0. 0. 0. 0. 0. 0. 0. 0. 0.]\n",
      " [0. 0. 0. 0. 0. 0. 0. 0. 0. 0. 0. 0. 0. 0. 0. 0.]\n",
      " [0. 0. 0. 0. 0. 0. 0. 0. 0. 0. 0. 0. 0. 0. 0. 0.]\n",
      " [0. 0. 0. 0. 0. 0. 0. 0. 0. 0. 0. 0. 0. 0. 0. 0.]\n",
      " [0. 0. 0. 0. 0. 0. 0. 0. 0. 0. 0. 0. 0. 0. 0. 0.]\n",
      " [0. 0. 0. 0. 0. 0. 0. 0. 0. 0. 0. 0. 0. 0. 0. 0.]\n",
      " [0. 0. 0. 0. 0. 0. 0. 0. 0. 0. 0. 0. 0. 0. 0. 0.]\n",
      " [0. 0. 0. 0. 0. 0. 0. 0. 0. 0. 0. 0. 0. 0. 0. 0.]\n",
      " [0. 0. 0. 0. 0. 0. 0. 0. 0. 0. 0. 0. 0. 0. 0. 0.]\n",
      " [0. 0. 0. 0. 0. 0. 0. 0. 0. 0. 0. 0. 0. 0. 0. 0.]\n",
      " [0. 0. 0. 0. 0. 0. 0. 0. 0. 0. 0. 0. 0. 0. 0. 0.]\n",
      " [0. 0. 0. 0. 0. 0. 0. 0. 0. 0. 0. 0. 0. 0. 0. 0.]\n",
      " [0. 0. 0. 0. 0. 0. 0. 0. 0. 0. 0. 0. 0. 0. 0. 0.]]\n"
     ]
    }
   ],
   "source": [
    "np.set_printoptions(threshold=np.inf)\n",
    "my_array = np.zeros((16,16))\n",
    "print(my_array)"
   ]
  },
  {
   "cell_type": "markdown",
   "metadata": {},
   "source": [
    "# 10.Subtract the mean of each row of a matrix"
   ]
  },
  {
   "cell_type": "code",
   "execution_count": 67,
   "metadata": {},
   "outputs": [
    {
     "name": "stdout",
     "output_type": "stream",
     "text": [
      "[[ 0.34093589 -0.4681448  -0.32805015 -0.1233923   0.43156329 -0.31628938\n",
      "   0.47376586  0.08618301  0.00715692 -0.10372833]\n",
      " [ 0.11193784 -0.27406838  0.07024466  0.0975906  -0.40481746  0.16743595\n",
      "  -0.09984552 -0.24058119 -0.00350098  0.57560449]\n",
      " [ 0.00187763  0.35985124 -0.45499558  0.26839373  0.05130189 -0.50942936\n",
      "   0.00548684  0.10980388  0.13929636  0.02841337]\n",
      " [ 0.21334357 -0.40864231  0.02028321  0.16384545  0.34998394 -0.39866285\n",
      "  -0.1165171  -0.32735157  0.30139883  0.20231883]\n",
      " [-0.51307034  0.29338281  0.28327954 -0.18313459  0.45674512 -0.26379108\n",
      "  -0.0806035  -0.00543694 -0.02392823  0.0365572 ]]\n"
     ]
    }
   ],
   "source": [
    "X = np.random.rand(5, 10)\n",
    "Y = X - X.mean(axis=1).reshape(-1, 1)\n",
    "print(Y)"
   ]
  },
  {
   "cell_type": "markdown",
   "metadata": {},
   "source": [
    "# 11.Consider a given vector, how to add 1 to each element indexed by a second vector (be careful with repeated indices)? "
   ]
  },
  {
   "cell_type": "code",
   "execution_count": 64,
   "metadata": {},
   "outputs": [
    {
     "name": "stdout",
     "output_type": "stream",
     "text": [
      "[1. 1. 1. 1. 1. 1. 1. 1. 1. 1.]\n",
      "[5 4 5 6 9 4 7 8 9 4 2 0 1 4 2 1 2 4 6 5]\n",
      "None\n",
      "[ 3.  5.  7.  1. 11.  7.  5.  3.  3.  5.]\n"
     ]
    }
   ],
   "source": [
    "a1 = np.ones(10)\n",
    "print(a1)\n",
    "a2 = np.random.randint(0,len(a1),20)\n",
    "print(a2)\n",
    "a1 += np.bincount(a2, minlength=len(a1))\n",
    "print(a1)"
   ]
  },
  {
   "cell_type": "code",
   "execution_count": null,
   "metadata": {},
   "outputs": [],
   "source": []
  },
  {
   "cell_type": "markdown",
   "metadata": {},
   "source": [
    "# 12.How to get the diagonal of a dot product?"
   ]
  },
  {
   "cell_type": "code",
   "execution_count": 56,
   "metadata": {},
   "outputs": [
    {
     "name": "stdout",
     "output_type": "stream",
     "text": [
      "[[0.5522706  0.47852125 0.12711768 0.72329463 0.69742456]\n",
      " [0.24023653 0.44773712 0.84318749 0.98898573 0.78786632]\n",
      " [0.11292106 0.93420016 0.66573368 0.17506378 0.66653458]\n",
      " [0.09164641 0.82091662 0.68035869 0.87165285 0.86338592]\n",
      " [0.42237721 0.57404427 0.97370868 0.76755415 0.48377011]]\n",
      "[[0.56724289 0.46708064 0.43801541 0.48150494 0.56440134]\n",
      " [0.35369196 0.30064245 0.51848524 0.49716762 0.26504904]\n",
      " [0.59336213 0.67647817 0.34536414 0.88658115 0.91302718]\n",
      " [0.19620942 0.21952703 0.67832105 0.57314502 0.93880912]\n",
      " [0.47290858 0.41563604 0.31773286 0.80164127 0.57388261]]\n",
      "[[1.02968279 0.         0.         0.         0.        ]\n",
      " [0.         1.36179127 0.         0.         0.        ]\n",
      " [0.         0.         1.09428008 0.         0.        ]\n",
      " [0.         0.         0.         2.24716383 0.        ]\n",
      " [0.         0.         0.         0.         2.27777673]]\n",
      "[[0.7061721  0.35731968 0.56840663 0.80711444 0.61322685]\n",
      " [0.22997664 0.14959032 0.22499891 0.0710586  0.06201162]\n",
      " [0.37924166 0.42724751 0.56560812 0.14206639 0.22726473]\n",
      " [0.37502115 0.5430632  0.74563911 0.32897818 0.0744526 ]\n",
      " [0.10533065 0.21588647 0.00195405 0.32588402 0.9811093 ]]\n",
      "[[0.12981305 0.62711348 0.4555943  0.71620348 0.5712734 ]\n",
      " [0.47452924 0.11731706 0.98886535 0.00697782 0.44669657]\n",
      " [0.9869191  0.78712143 0.7311613  0.06765162 0.25100212]\n",
      " [0.92995455 0.50740529 0.81264277 0.67702038 0.60894028]\n",
      " [0.89961402 0.70979669 0.30799256 0.86978684 0.30102908]]\n",
      "[[2.12444757 0.         0.         0.         0.        ]\n",
      " [0.         0.41894356 0.         0.         0.        ]\n",
      " [0.         0.         1.19426643 0.         0.        ]\n",
      " [0.         0.         0.         0.61030737 0.        ]\n",
      " [0.         0.         0.         0.         0.65088515]]\n"
     ]
    }
   ],
   "source": [
    "A = np.random.uniform(0,1,(5,5))\n",
    "B = np.random.uniform(0,1,(5,5))\n",
    "print(A)\n",
    "print(B)\n",
    "print(np.diag(np.diag(np.dot(A, B))))\n",
    "#np.random.rand(3,3)\n",
    "#A = np.random.random((5,5))\n",
    "C = np.random.random((5,5))\n",
    "D = np.random.random((5,5))\n",
    "print(C)\n",
    "print(D)\n",
    "print(np.diag(np.diag(np.dot(C, D))))"
   ]
  },
  {
   "cell_type": "markdown",
   "metadata": {},
   "source": [
    "# 13.How to find the most frequent value in an array?"
   ]
  },
  {
   "cell_type": "code",
   "execution_count": 37,
   "metadata": {},
   "outputs": [
    {
     "name": "stdout",
     "output_type": "stream",
     "text": [
      "[5 3 5 8 1 4 3 8 5 0 7 2 2 6 7 0 6 4 3 5 9 9 2 1 2 7 4 6 9 4 6 0 3 1 6 1 6\n",
      " 1 2 0 4 2 7 7 9 8 6 9 4 0]\n",
      "6\n"
     ]
    }
   ],
   "source": [
    "Z = np.random.randint(0,10,50)\n",
    "print(Z)\n",
    "print(np.bincount(Z).argmax())"
   ]
  },
  {
   "cell_type": "markdown",
   "metadata": {},
   "source": [
    "# 14.How to get the n largest values of an array"
   ]
  },
  {
   "cell_type": "code",
   "execution_count": 34,
   "metadata": {},
   "outputs": [
    {
     "name": "stdout",
     "output_type": "stream",
     "text": [
      "[6284 4010 7136 ... 3374 7164 3170]\n",
      "[9995 9996 9997 9998 9999]\n",
      "[9997 9998 9999 9996 9995]\n"
     ]
    }
   ],
   "source": [
    "Z = np.arange(10000)\n",
    "np.random.shuffle(Z)\n",
    "print(Z)\n",
    "n = 5\n",
    "\n",
    "# Slow\n",
    "\n",
    "print (Z[np.argsort(Z)[-n:]])\n",
    "\n",
    "# Fast\n",
    "\n",
    "print (Z[np.argpartition(-Z,n)[:n]])"
   ]
  },
  {
   "cell_type": "markdown",
   "metadata": {},
   "source": [
    "# 15.How to create a record array from a regular array?"
   ]
  },
  {
   "cell_type": "code",
   "execution_count": 57,
   "metadata": {},
   "outputs": [
    {
     "name": "stdout",
     "output_type": "stream",
     "text": [
      "[(b'Hello', 2.5, 3) (b'World', 3.6, 2)]\n"
     ]
    }
   ],
   "source": [
    "arr = np.array([(\"Hello\", 2.5, 3),\n",
    "\n",
    "(\"World\", 3.6, 2)])\n",
    "\n",
    "Recarr = np.core.records.fromarrays(arr.T,\n",
    "\n",
    "names='col1, col2, col3',\n",
    "\n",
    "formats = 'S8, f8, i8')\n",
    "\n",
    "print(Recarr)"
   ]
  },
  {
   "cell_type": "code",
   "execution_count": null,
   "metadata": {},
   "outputs": [],
   "source": []
  }
 ],
 "metadata": {
  "kernelspec": {
   "display_name": "Python 3",
   "language": "python",
   "name": "python3"
  },
  "language_info": {
   "codemirror_mode": {
    "name": "ipython",
    "version": 3
   },
   "file_extension": ".py",
   "mimetype": "text/x-python",
   "name": "python",
   "nbconvert_exporter": "python",
   "pygments_lexer": "ipython3",
   "version": "3.7.6"
  }
 },
 "nbformat": 4,
 "nbformat_minor": 2
}
