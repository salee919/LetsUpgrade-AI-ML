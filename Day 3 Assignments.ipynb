{
 "cells": [
  {
   "cell_type": "markdown",
   "metadata": {},
   "source": [
    "# Day 3 Assignments "
   ]
  },
  {
   "cell_type": "code",
   "execution_count": 76,
   "metadata": {},
   "outputs": [
    {
     "name": "stdout",
     "output_type": "stream",
     "text": [
      "1552j\n",
      "(832-343j)\n",
      "-260j\n",
      "570j\n"
     ]
    }
   ],
   "source": [
    "# Question 1 :\n",
    "# Write a program to subtract two complex numbers in Python.\n",
    "\n",
    "c1 = 2524j\n",
    "c2 = 972j\n",
    "result = c1-c2\n",
    "c3 = 832-343j\n",
    "c4 = 83j-343j\n",
    "c5 = 883j-313j\n",
    "print(result)\n",
    "print(c3)\n",
    "print(c4)\n",
    "print(c5)"
   ]
  },
  {
   "cell_type": "code",
   "execution_count": 77,
   "metadata": {},
   "outputs": [
    {
     "data": {
      "text/plain": [
       "14.028882799912754"
      ]
     },
     "execution_count": 77,
     "metadata": {},
     "output_type": "execute_result"
    }
   ],
   "source": [
    "# Question 2 :\n",
    "# Write a program to find the fourth root of a number.\n",
    "a=38734\n",
    "a**(1/4)"
   ]
  },
  {
   "cell_type": "code",
   "execution_count": 78,
   "metadata": {},
   "outputs": [
    {
     "name": "stdout",
     "output_type": "stream",
     "text": [
      "A1 Value After Swapping  89\n",
      "A2 Value After Swapping  23\n"
     ]
    }
   ],
   "source": [
    "# Question 3:\n",
    "# Write a program to swap two numbers in Python with the help of a temporary variable.\n",
    "\n",
    "a1 = 23\n",
    "a2 = 89\n",
    "t1 = a1  #t1 is Temp Variable \n",
    "a1 = a2\n",
    "a2 = t1 \n",
    "\n",
    "print(\"A1 Value After Swapping \",a1)\n",
    "print(\"A2 Value After Swapping \",a2)\n"
   ]
  },
  {
   "cell_type": "code",
   "execution_count": 79,
   "metadata": {},
   "outputs": [
    {
     "name": "stdout",
     "output_type": "stream",
     "text": [
      "a Value After Swapping  24\n",
      "b Value After Swapping  45\n"
     ]
    }
   ],
   "source": [
    "# Question 4:\n",
    "# Write a program to swap two numbers in Python without using a temporary variable.\n",
    "#Below Swapping is done using Multiplication and Division Logic and without any 3rd variable \n",
    "a = 45\n",
    "b = 24\n",
    "a = a * b\n",
    "b = a / b\n",
    "a = a / b\n",
    "\n",
    "print(\"a Value After Swapping \",int(a))\n",
    "print(\"b Value After Swapping \",int(b))"
   ]
  },
  {
   "cell_type": "code",
   "execution_count": 80,
   "metadata": {},
   "outputs": [
    {
     "name": "stdout",
     "output_type": "stream",
     "text": [
      "Given Fahrenheit temperature  71  in kelvin=  294.81666666666666 K\n",
      "Given Fahrenheit temperature  71  in celsius=  21.666666666666668 °C\n"
     ]
    }
   ],
   "source": [
    "# Question 5:\n",
    "# Write a program to convert fahrenheit to kelvin and celsius both.\n",
    "\n",
    "temp_fahrenheit = 71\n",
    "#formula to Convert fahrenheit to kelvin (fahrenheit − 32) × 5/9 + 273.15 = 294.817K\n",
    "#formula to Convert fahrenheit to celsius (fahrenheit − 32) × 5/9 = 0°C\n",
    "\n",
    "temp_kelvin =  (temp_fahrenheit-32) * 5/9 + 273.15\n",
    "temp_celsius = (temp_fahrenheit-32) * 5/9\n",
    "\n",
    "print(\"Given Fahrenheit temperature \" ,temp_fahrenheit, \" in kelvin= \",temp_kelvin,\"K\")\n",
    "print(\"Given Fahrenheit temperature \" ,temp_fahrenheit, \" in celsius= \",temp_celsius,\"°C\" )\n"
   ]
  },
  {
   "cell_type": "code",
   "execution_count": 81,
   "metadata": {},
   "outputs": [
    {
     "name": "stdout",
     "output_type": "stream",
     "text": [
      "Type of given value is  <class 'int'>\n",
      "Type of given value is  <class 'float'>\n",
      "Type of given value is  <class 'complex'>\n",
      "Type of given value is  <class 'str'>\n",
      "Type of given value is  <class 'list'>\n",
      "Type of given value is  <class 'tuple'>\n",
      "Type of given value is  <class 'dict'>\n",
      "Type of given value is  <class 'bool'>\n",
      "Type of given value is  <class 'set'>\n"
     ]
    }
   ],
   "source": [
    "# Question 6:\n",
    "# Write a program to demonstrate all the available data types in Python. Hint: Use type() function.\n",
    "\n",
    "data_types = [8733,85.34,73+3j,\"ML is Awesome\",[33,12,52,121],(91,11,9,82),{\"Name\":\"Saleem\", \"Age\":27, \"Weight\":75},True , {'Shoe Sizes',5,6,7,8,9}]\n",
    "\n",
    "for d in data_types:\n",
    "    print(\"Type of given value is \",type(d))\n",
    "    #print(\"Type of \",d  ,\"is \",type(d))\n",
    "    \n",
    "\n"
   ]
  },
  {
   "cell_type": "markdown",
   "metadata": {},
   "source": [
    "# Question 7:\n",
    "    Create a Markdown cell in jupyter and list the steps discussed in the session by Dr. Darshan Ingle sir to create Git hub\n",
    "    profile and upload Githubs Assignment link:\n",
    "    \n",
    "        1. Create GitHub Account by Signing Up \n",
    "        2. Create Profile. \n",
    "        3. Create New Repository with name LetsUpgrade-AI-ML.\n",
    "        4. Upload/Drag and Drop jupyter/Colab files in .ipnb format into LetsUpgrade-AI-ML repository.\n",
    "        5. Copy Paste the Link gitHub Repository https://github.com/salee919/LetsUpgrade-AI-ML into Assignment Submission link\n",
    "        provided.\n",
    "        6.Before submitting the assignment validate the github URL if its accessible in incognito.\n",
    "        7.If accessible fill the rest of the details and submit the assignment and evaluate the same details in your gmail \n",
    "        account.\n",
    "        "
   ]
  }
 ],
 "metadata": {
  "kernelspec": {
   "display_name": "Python 3",
   "language": "python",
   "name": "python3"
  },
  "language_info": {
   "codemirror_mode": {
    "name": "ipython",
    "version": 3
   },
   "file_extension": ".py",
   "mimetype": "text/x-python",
   "name": "python",
   "nbconvert_exporter": "python",
   "pygments_lexer": "ipython3",
   "version": "3.7.6"
  }
 },
 "nbformat": 4,
 "nbformat_minor": 4
}
