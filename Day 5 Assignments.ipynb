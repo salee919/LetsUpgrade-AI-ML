{
 "cells": [
  {
   "cell_type": "markdown",
   "metadata": {},
   "source": [
    "# Day 5 Assignments:"
   ]
  },
  {
   "cell_type": "code",
   "execution_count": 50,
   "metadata": {},
   "outputs": [
    {
     "name": "stdout",
     "output_type": "stream",
     "text": [
      "3\n",
      "5\n",
      "7\n",
      "9\n",
      "11\n",
      "13\n",
      "15\n",
      "17\n",
      "19\n",
      "21\n",
      "23\n",
      "25\n",
      "27\n",
      "29\n",
      "31\n",
      "33\n",
      "35\n",
      "37\n",
      "39\n",
      "41\n"
     ]
    }
   ],
   "source": [
    "# Question 1 :\n",
    "# Write a Python program to find the first 20 non-even prime natural numbers.\n",
    "\n",
    "numbers = range(2,100)\n",
    "r=0\n",
    "for n in numbers:\n",
    "    \n",
    "    if n > 2: # skipping 2 since 2 is the only Even Prime Number \n",
    "        for i in range(2, n):\n",
    "            if (n % i) == 0 and i==2:\n",
    "                #print(\"true\")\n",
    "                break\n",
    "        else:\n",
    "            print(n)\n",
    "            r+=1    \n",
    "\n",
    "    if(r==20):\n",
    "        break"
   ]
  },
  {
   "cell_type": "code",
   "execution_count": 85,
   "metadata": {},
   "outputs": [
    {
     "name": "stdout",
     "output_type": "stream",
     "text": [
      "SALEEM AHMED\n",
      "saleem ahmed\n",
      "False\n",
      "False\n",
      "False\n",
      "False\n",
      "False\n",
      "True\n",
      "False\n",
      "12\n",
      "S a l e e m   A h m e d\n",
      "demhA meelaS\n",
      "['Saleem', 'Ahmed']\n",
      "['S', 'leem Ahmed']\n",
      "Saleem Mech\n",
      "9\n",
      "7\n",
      "Hello My Name is Machine 007\n",
      "True\n"
     ]
    }
   ],
   "source": [
    "# Question 2 :\n",
    "# Write a Python program to implement 15 functions of string.\n",
    "\n",
    "##Below are some of the String Functions in Python \n",
    "#Below Can be done in a loop As well to eliminate excess line sof Code\n",
    "\n",
    "name = \"Saleem Ahmed\"\n",
    "new = \"Hello My Name is {Nam}\"\n",
    "print(name.upper())                    # upper() function Makes the String Value into UpperCase\n",
    "print(name.lower())                    # lover() function Makes the String Value into LowerCase\n",
    "print(name.isalnum())                  # Returns True if all characters in the string are alphanumeric\n",
    "print(name.isalpha())                  # Returns True if all characters in the string are in the alphabet\n",
    "print(name.islower())                  # Returns True if all characters in the string are lower case\n",
    "print(name.isnumeric())                # Returns True if all characters in the string are numeric\n",
    "print(name.isspace())                  # Returns True if all characters in the string are whitespaces\n",
    "print(name.istitle())                  # Returns True if the string follows the rules of a title\n",
    "print(name.isupper())                  # Returns True if all characters in the string are upper case\n",
    "print(len(name))                       # Returns the total characters count in the string value\n",
    "print(\" \".join(name))                  # Joins the elements of an iterable to the end of the string\n",
    "print(\"\".join(reversed(name)))         # Reverse the String Value\n",
    "print(name.split())                    # Splits the string at the specified separator, and returns a list\n",
    "print(name.split(\"a\"))                 # Splits the string at the specified separator, and returns a list\n",
    "print(name.replace(\"Ahmed\",\"Mech\"))    # Returns a string where a specified value is replaced with a specified value\n",
    "print(name.rfind(\"me\"))                # Searches the string for a specified value and returns the last position of where it was found\n",
    "print(name.find(\"Ah\"))                 # Searches the string for a specified value and returns the position of where it was found\n",
    "print(new.format(Nam=\"Machine 007\"))   # Formats specified values in a string\n",
    "print(name.endswith(\"d\"))              # Returns true if the string ends with the specified value"
   ]
  },
  {
   "cell_type": "code",
   "execution_count": 171,
   "metadata": {},
   "outputs": [
    {
     "name": "stdout",
     "output_type": "stream",
     "text": [
      "Given String  Dummy testung  is neither a Palindrome and nor a anagram of  Hellos  !!\n",
      "Given String  madam  is a Palindrome !!\n",
      "Given string  dormitory  is anagram of  dirtyroom  !!\n",
      "Given String  dad  is a Palindrome !!\n",
      "Given string  listen  is anagram of  silent  !!\n",
      "Given String  civic  is a Palindrome !!\n",
      "Given string  funeral  is anagram of  realfun  !!\n",
      "Given String  racecar  is a Palindrome !!\n",
      "Given string  racecar  is anagram of  carrace  !!\n",
      "Given string  school master  is anagram of  the classroom  !!\n",
      "Given String  rotor  is a Palindrome !!\n",
      "Given String  tews  is neither a Palindrome and nor a anagram of  yde  !!\n"
     ]
    }
   ],
   "source": [
    "# Question 3:\n",
    "# Write a Python program to check if the given string is a Palindrome or Anagram or None of them.\n",
    "# Display the message accordingly to the user.\n",
    "\n",
    "names1 = [\"Dummy testung\",\"madam\",\"dormitory\",\"dad\",\"listen\",\"civic\",\"funeral\",\"racecar\",\"school master\",\"rotor\",\"tews\"]\n",
    "names2 = [\"Hellos\",\"teacher\",\"dirtyroom\",\"con\",\"silent\",\"civil\",\"realfun\",\"carrace\",\"the classroom\",\"roller\",\"yde\"]\n",
    "\n",
    "i=0\n",
    "for n in names1:\n",
    "    res1=False\n",
    "    res2 = False\n",
    "    if (n == n[::-1]):\n",
    "        print(\"Given String \",n,\" is a Palindrome !!\")\n",
    "        res1=True\n",
    "    \n",
    "    #else:\n",
    "     #   print(\"Given String \",n,\" is Not a Palindrome !!\")\n",
    "        \n",
    "    if(sorted(n)== sorted(names2[i])): \n",
    "        print(\"Given string \",n,\" is anagram of \", names2[i],\" !!\")\n",
    "        res2=True\n",
    "        \n",
    "    #else:\n",
    "     #    print(\"Given string \",n,\" is Not an anagram of \", names2[i],\" !!\")\n",
    "            \n",
    "    if(res1==False and res2==False):\n",
    "        print(\"Given String \",n,\" is neither a Palindrome and nor a anagram of \", names2[i],\" !!\")\n",
    "    i+=1\n",
    "    \n"
   ]
  },
  {
   "cell_type": "code",
   "execution_count": 108,
   "metadata": {},
   "outputs": [
    {
     "name": "stdout",
     "output_type": "stream",
     "text": [
      "drdarshaningleaimltrainer\n"
     ]
    }
   ],
   "source": [
    "# Question 4:\n",
    "# Write a Python's user defined function that removes all the additional characters from the string\n",
    "# and converts it finally to lower case using built-in lower(). eg: If the string is \"Dr. Darshan Ingle\n",
    "# @AI-ML Trainer\", then the output be \"drdarshaningleaimltrainer\".\n",
    "\n",
    "parm = \"Dr. Darshan Ingle @AI-ML Trainer\"\n",
    "\n",
    "# here i am filtering out all the characters which are not Alphabets and Numbers so only Special Character will be removed \n",
    "print((''.join(e for e in parm if e.isalnum()).lower()))\n"
   ]
  },
  {
   "cell_type": "code",
   "execution_count": null,
   "metadata": {},
   "outputs": [],
   "source": []
  }
 ],
 "metadata": {
  "kernelspec": {
   "display_name": "Python 3",
   "language": "python",
   "name": "python3"
  },
  "language_info": {
   "codemirror_mode": {
    "name": "ipython",
    "version": 3
   },
   "file_extension": ".py",
   "mimetype": "text/x-python",
   "name": "python",
   "nbconvert_exporter": "python",
   "pygments_lexer": "ipython3",
   "version": "3.7.6"
  }
 },
 "nbformat": 4,
 "nbformat_minor": 4
}
